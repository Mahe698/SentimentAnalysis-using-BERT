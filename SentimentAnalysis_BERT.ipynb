{
 "cells": [
  {
   "cell_type": "markdown",
   "id": "67e6599c",
   "metadata": {},
   "source": [
    "#  Install Pytorch"
   ]
  },
  {
   "cell_type": "code",
   "execution_count": 3,
   "id": "48a03ae9",
   "metadata": {
    "scrolled": true
   },
   "outputs": [
    {
     "name": "stdout",
     "output_type": "stream",
     "text": [
      "Looking in indexes: https://download.pytorch.org/whl/cu117\n",
      "Requirement already satisfied: torch in c:\\users\\mahes\\anaconda3\\lib\\site-packages (2.0.1+cu117)\n",
      "Requirement already satisfied: torchvision in c:\\users\\mahes\\anaconda3\\lib\\site-packages (0.15.2+cu117)\n",
      "Requirement already satisfied: torchaudio in c:\\users\\mahes\\anaconda3\\lib\\site-packages (2.0.2+cu117)\n",
      "Requirement already satisfied: sympy in c:\\users\\mahes\\anaconda3\\lib\\site-packages (from torch) (1.11.1)\n",
      "Requirement already satisfied: networkx in c:\\users\\mahes\\anaconda3\\lib\\site-packages (from torch) (2.8.4)\n",
      "Requirement already satisfied: filelock in c:\\users\\mahes\\anaconda3\\lib\\site-packages (from torch) (3.9.0)\n",
      "Requirement already satisfied: typing-extensions in c:\\users\\mahes\\anaconda3\\lib\\site-packages (from torch) (4.4.0)\n",
      "Requirement already satisfied: jinja2 in c:\\users\\mahes\\anaconda3\\lib\\site-packages (from torch) (3.1.2)\n",
      "Requirement already satisfied: numpy in c:\\users\\mahes\\anaconda3\\lib\\site-packages (from torchvision) (1.23.5)\n",
      "Requirement already satisfied: pillow!=8.3.*,>=5.3.0 in c:\\users\\mahes\\anaconda3\\lib\\site-packages (from torchvision) (9.4.0)\n",
      "Requirement already satisfied: requests in c:\\users\\mahes\\anaconda3\\lib\\site-packages (from torchvision) (2.28.1)\n",
      "Requirement already satisfied: MarkupSafe>=2.0 in c:\\users\\mahes\\anaconda3\\lib\\site-packages (from jinja2->torch) (2.1.1)\n",
      "Requirement already satisfied: idna<4,>=2.5 in c:\\users\\mahes\\anaconda3\\lib\\site-packages (from requests->torchvision) (3.4)\n",
      "Requirement already satisfied: charset-normalizer<3,>=2 in c:\\users\\mahes\\anaconda3\\lib\\site-packages (from requests->torchvision) (2.0.4)\n",
      "Requirement already satisfied: certifi>=2017.4.17 in c:\\users\\mahes\\anaconda3\\lib\\site-packages (from requests->torchvision) (2023.5.7)\n",
      "Requirement already satisfied: urllib3<1.27,>=1.21.1 in c:\\users\\mahes\\anaconda3\\lib\\site-packages (from requests->torchvision) (1.26.14)\n",
      "Requirement already satisfied: mpmath>=0.19 in c:\\users\\mahes\\anaconda3\\lib\\site-packages (from sympy->torch) (1.2.1)\n"
     ]
    }
   ],
   "source": [
    "!pip install torch torchvision torchaudio --index-url https://download.pytorch.org/whl/cu117"
   ]
  },
  {
   "cell_type": "markdown",
   "id": "335288ab",
   "metadata": {},
   "source": [
    "# Install transformers, requests, beautifulsoup, pandas, numpy"
   ]
  },
  {
   "cell_type": "code",
   "execution_count": 9,
   "id": "f81c8a84",
   "metadata": {},
   "outputs": [
    {
     "name": "stdout",
     "output_type": "stream",
     "text": [
      "Requirement already satisfied: transformers in c:\\users\\mahes\\anaconda3\\lib\\site-packages (4.24.0)\n",
      "Requirement already satisfied: requests in c:\\users\\mahes\\anaconda3\\lib\\site-packages (2.28.1)\n",
      "Requirement already satisfied: beautifulsoup4 in c:\\users\\mahes\\anaconda3\\lib\\site-packages (4.11.1)\n",
      "Requirement already satisfied: pandas in c:\\users\\mahes\\anaconda3\\lib\\site-packages (1.5.3)\n",
      "Requirement already satisfied: numpy in c:\\users\\mahes\\anaconda3\\lib\\site-packages (1.23.5)\n",
      "Requirement already satisfied: packaging>=20.0 in c:\\users\\mahes\\anaconda3\\lib\\site-packages (from transformers) (22.0)\n",
      "Requirement already satisfied: regex!=2019.12.17 in c:\\users\\mahes\\anaconda3\\lib\\site-packages (from transformers) (2022.7.9)\n",
      "Requirement already satisfied: tokenizers!=0.11.3,<0.14,>=0.11.1 in c:\\users\\mahes\\anaconda3\\lib\\site-packages (from transformers) (0.11.4)\n",
      "Requirement already satisfied: filelock in c:\\users\\mahes\\anaconda3\\lib\\site-packages (from transformers) (3.9.0)\n",
      "Requirement already satisfied: huggingface-hub<1.0,>=0.10.0 in c:\\users\\mahes\\anaconda3\\lib\\site-packages (from transformers) (0.10.1)\n",
      "Requirement already satisfied: pyyaml>=5.1 in c:\\users\\mahes\\anaconda3\\lib\\site-packages (from transformers) (6.0)\n",
      "Requirement already satisfied: tqdm>=4.27 in c:\\users\\mahes\\anaconda3\\lib\\site-packages (from transformers) (4.64.1)\n",
      "Requirement already satisfied: idna<4,>=2.5 in c:\\users\\mahes\\anaconda3\\lib\\site-packages (from requests) (3.4)\n",
      "Requirement already satisfied: urllib3<1.27,>=1.21.1 in c:\\users\\mahes\\anaconda3\\lib\\site-packages (from requests) (1.26.14)\n",
      "Requirement already satisfied: charset-normalizer<3,>=2 in c:\\users\\mahes\\anaconda3\\lib\\site-packages (from requests) (2.0.4)\n",
      "Requirement already satisfied: certifi>=2017.4.17 in c:\\users\\mahes\\anaconda3\\lib\\site-packages (from requests) (2023.5.7)\n",
      "Requirement already satisfied: soupsieve>1.2 in c:\\users\\mahes\\anaconda3\\lib\\site-packages (from beautifulsoup4) (2.3.2.post1)\n",
      "Requirement already satisfied: python-dateutil>=2.8.1 in c:\\users\\mahes\\anaconda3\\lib\\site-packages (from pandas) (2.8.2)\n",
      "Requirement already satisfied: pytz>=2020.1 in c:\\users\\mahes\\anaconda3\\lib\\site-packages (from pandas) (2022.7)\n",
      "Requirement already satisfied: typing-extensions>=3.7.4.3 in c:\\users\\mahes\\anaconda3\\lib\\site-packages (from huggingface-hub<1.0,>=0.10.0->transformers) (4.4.0)\n",
      "Requirement already satisfied: six>=1.5 in c:\\users\\mahes\\anaconda3\\lib\\site-packages (from python-dateutil>=2.8.1->pandas) (1.16.0)\n",
      "Requirement already satisfied: colorama in c:\\users\\mahes\\anaconda3\\lib\\site-packages (from tqdm>=4.27->transformers) (0.4.6)\n"
     ]
    }
   ],
   "source": [
    "!pip install transformers requests beautifulsoup4 pandas numpy"
   ]
  },
  {
   "cell_type": "markdown",
   "id": "c7af55e8",
   "metadata": {},
   "source": [
    "\n",
    "# Import Packages"
   ]
  },
  {
   "cell_type": "code",
   "execution_count": 10,
   "id": "34f98158",
   "metadata": {},
   "outputs": [],
   "source": [
    "from transformers import AutoTokenizer, AutoModelForSequenceClassification\n",
    "import torch\n",
    "import requests\n",
    "from bs4 import BeautifulSoup\n",
    "import re"
   ]
  },
  {
   "cell_type": "markdown",
   "id": "ceab57a2",
   "metadata": {},
   "source": [
    "# Model and Tokenizer"
   ]
  },
  {
   "cell_type": "code",
   "execution_count": 11,
   "id": "24715081",
   "metadata": {},
   "outputs": [
    {
     "data": {
      "application/vnd.jupyter.widget-view+json": {
       "model_id": "8e9ae000e5ae4db0a9f791ad555501d8",
       "version_major": 2,
       "version_minor": 0
      },
      "text/plain": [
       "Downloading:   0%|          | 0.00/39.0 [00:00<?, ?B/s]"
      ]
     },
     "metadata": {},
     "output_type": "display_data"
    },
    {
     "name": "stderr",
     "output_type": "stream",
     "text": [
      "C:\\Users\\mahes\\anaconda3\\lib\\site-packages\\huggingface_hub\\file_download.py:123: UserWarning: `huggingface_hub` cache-system uses symlinks by default to efficiently store duplicated files but your machine does not support them in C:\\Users\\mahes\\.cache\\huggingface\\hub. Caching files will still work but in a degraded version that might require more space on your disk. This warning can be disabled by setting the `HF_HUB_DISABLE_SYMLINKS_WARNING` environment variable. For more details, see https://huggingface.co/docs/huggingface_hub/how-to-cache#limitations.\n",
      "To support symlinks on Windows, you either need to activate Developer Mode or to run Python as an administrator. In order to see activate developer mode, see this article: https://docs.microsoft.com/en-us/windows/apps/get-started/enable-your-device-for-development\n",
      "  warnings.warn(message)\n"
     ]
    },
    {
     "data": {
      "application/vnd.jupyter.widget-view+json": {
       "model_id": "800db181ed444392ad665b7148a8e929",
       "version_major": 2,
       "version_minor": 0
      },
      "text/plain": [
       "Downloading:   0%|          | 0.00/953 [00:00<?, ?B/s]"
      ]
     },
     "metadata": {},
     "output_type": "display_data"
    },
    {
     "data": {
      "application/vnd.jupyter.widget-view+json": {
       "model_id": "80f284d98ddb4e4896117d2c1bbc7432",
       "version_major": 2,
       "version_minor": 0
      },
      "text/plain": [
       "Downloading:   0%|          | 0.00/872k [00:00<?, ?B/s]"
      ]
     },
     "metadata": {},
     "output_type": "display_data"
    },
    {
     "data": {
      "application/vnd.jupyter.widget-view+json": {
       "model_id": "4381d451f7d6445c86fdf46dedaff0ce",
       "version_major": 2,
       "version_minor": 0
      },
      "text/plain": [
       "Downloading:   0%|          | 0.00/112 [00:00<?, ?B/s]"
      ]
     },
     "metadata": {},
     "output_type": "display_data"
    },
    {
     "data": {
      "application/vnd.jupyter.widget-view+json": {
       "model_id": "3e37bb62036f411086b278d6db7a1b09",
       "version_major": 2,
       "version_minor": 0
      },
      "text/plain": [
       "Downloading:   0%|          | 0.00/669M [00:00<?, ?B/s]"
      ]
     },
     "metadata": {},
     "output_type": "display_data"
    }
   ],
   "source": [
    "tokenizer = AutoTokenizer.from_pretrained('nlptown/bert-base-multilingual-uncased-sentiment')\n",
    "\n",
    "model = AutoModelForSequenceClassification.from_pretrained('nlptown/bert-base-multilingual-uncased-sentiment')"
   ]
  },
  {
   "cell_type": "markdown",
   "id": "cc3fd55d",
   "metadata": {},
   "source": [
    "# Sentiment Analysis"
   ]
  },
  {
   "cell_type": "code",
   "execution_count": 12,
   "id": "d993e017",
   "metadata": {},
   "outputs": [],
   "source": [
    "tokens = tokenizer.encode('It was good but could be better', return_tensors = \"pt\")"
   ]
  },
  {
   "cell_type": "code",
   "execution_count": 15,
   "id": "d4b12941",
   "metadata": {},
   "outputs": [],
   "source": [
    "result = model(tokens)"
   ]
  },
  {
   "cell_type": "code",
   "execution_count": 16,
   "id": "1f7a33f5",
   "metadata": {},
   "outputs": [
    {
     "data": {
      "text/plain": [
       "tensor([[-1.8420,  0.1273,  2.0554,  1.1315, -1.2853]],\n",
       "       grad_fn=<AddmmBackward0>)"
      ]
     },
     "execution_count": 16,
     "metadata": {},
     "output_type": "execute_result"
    }
   ],
   "source": [
    "result.logits"
   ]
  },
  {
   "cell_type": "markdown",
   "id": "68dd01de",
   "metadata": {},
   "source": [
    "Assigning an Integer value to the result"
   ]
  },
  {
   "cell_type": "code",
   "execution_count": 17,
   "id": "e17149c9",
   "metadata": {},
   "outputs": [
    {
     "data": {
      "text/plain": [
       "3"
      ]
     },
     "execution_count": 17,
     "metadata": {},
     "output_type": "execute_result"
    }
   ],
   "source": [
    "int(torch.argmax(result.logits))+1"
   ]
  },
  {
   "cell_type": "markdown",
   "id": "8a364497",
   "metadata": {},
   "source": [
    "Input can be changed and an integer value from 1 to 5 will be assigned by calculating sentiment. 1 = low, 5 = high"
   ]
  },
  {
   "cell_type": "markdown",
   "id": "85d4a593",
   "metadata": {},
   "source": [
    "# Scraping reviews and Analysing sentiment"
   ]
  },
  {
   "cell_type": "code",
   "execution_count": 21,
   "id": "7377bcbb",
   "metadata": {},
   "outputs": [],
   "source": [
    "r= requests.get('https://www.yelp.com/biz/montesacro-soma-san-francisco')\n",
    "soup = BeautifulSoup(r.text, 'html.parser')\n",
    "regex = re.compile('.*comment.*')\n",
    "results = soup.find_all('p', {'class' : regex})\n",
    "reviews = [result.text for result in results]"
   ]
  },
  {
   "cell_type": "code",
   "execution_count": 22,
   "id": "6c0bb38c",
   "metadata": {},
   "outputs": [
    {
     "data": {
      "text/plain": [
       "[\"Everything, great food, adorable place, excellent wine, and a very hot wait staff (Italian accent anyone?). \\xa0We only got appetizers as the pinsa was gluten-aware and not Celiac gluten free. But oh what amazing appetizers they were! Also very nice decor in a neat building with some wonderful leftovers of old SF interspersed amongst the nouveau Soviet architecture that's going up everywhere. Not being able to order the pinsa meant the cost was a little higher, so I couldn't afford it on the reg, but I will *definitely* be returning.\",\n",
       " \"Overall Experience: 4.5 Food: 4Service: 5Atmosphere: 4Value: 4We walked here and the area is a bit sketchy which was a little bit of a downer. The waiter mixed up our food with the table next to us so both my boyfriend and I had the wrong pinsa. I brought up the issue with the waiter and he kindly made me a new one despite me saying that it was okay (this was before we realized my boyfriends order was wrong too). They very kindly gave us the pinsa for free despite correctly their mistake which was a nice gesture. The food was a little bland in my opinion, but I also think it's how the dish is supposed to be rather than \\xa0the restaurant itself. I still enjoyed the meal despite this. Overall, this place was a cute and affordable date night spot with great service (except the mishap).\",\n",
       " \"I came here on a Saturday night with a reservation. I showed up 30 mins early at 6pm and we were able to be sat right away. Eventually it got pretty busy. The server was great, he made good suggestions and was very helpful with the menu when we had questions. The interior is beautiful, very rustic and romantic. The area of the restaurant is definitely sketchy so I would suggest getting dropped off and maybe not driving your car like I did. Luckily, I found a really good parking and the sun was still out but yeah...sketchy part of the city and it's in an alleyway. We ordered the basket of bread, a bottle of Tufaliccino wine, Montesacro pizza and the L Torta del Ghetto dessert. The bread basket came with three different types of bread, olive oil, with salt and pepper. I thought all of the bread was really tasty, and I liked the different textures and consistencies of all of them. The wine may have been mine and my friend's favorite thing from the evening. I would definitely suggest a bottle of this wine. We also got the Montesacaro pizza which was suggested by our server. The pizza was OK, I don't think I would order it again, but I thought the lamb sausages were really good and the dough was amazing. I learned I'm not big on artichokes. The dessert was also good but unfortunately I wasn't amazed. It was a little dry, but still tasty. If I ever come back I would wanna try a different dessert. Overall, I would still come back and try a few other things on the menu and maybe with more than just one other person so we can try more than just a couple of things.\",\n",
       " \"Stopped by this place for some pizza before catching a show at the orpheum. \\xa0The location is a little sketch, but once inside you forget what you walked through to get there. \\xa0We started with the burrata and the polpette. \\xa0We were a little disappointed that the burrata didn't come with bread. We ended up getting a separate order of bread ($5) to eat with it, but it didn't really have much actual bread and instead supplemented with bread sticks and thinly sliced stale bread. \\xa0Apart from that the starters were great. As for the pinsas we ordered the maranella, montesacro and the tormarancio. \\xa0All three were great, but the tormarancio was everyone's favorite. \\xa0Was a great meal overall and the service was excellent. \\xa0Would definitely consider coming back.\",\n",
       " \"Came here for an after party quick dinner and it was DELICIOUS!! Not sure if it was because of the alcohol (pretty sure it wasn't) but the food was sooo good. Their burrata, pesto, anchovy appetizer is a must get. The anchovy is quite salty but the burrata and bread helps balances it. The bread is an extra $5 but it was much needed. The crunchy thin bread was SO GOOD. I wish I could get free refills. Their pizza is also really really good. The dough was soft and chewy. The soppressata on the pizza was amazing. It is like a better, thinner, and tastier pepperoni. The prices are a bit steep with the pizzas costing at least $20 for one person's portion, and appetizers costing at least $15. The area outside the restaurant was a little sketchy. It was like an alley way and we went when it was dark so it was a little scary but the food is worth it. The staff there are also really nice and helpful.\",\n",
       " 'Thank you so much for taking the time to review our restaurant. Please visit us again soon! Grazie! ',\n",
       " \"Really lovely ambiance. The restaurant was dimly lit with interesting decor and just felt like you were sitting in someone's home. We arrived for a friend's birthday with a reservation and were seated seamlessly. The staff was so kind and gave the him a small dessert consisting of a biscuit of sorts with a lit candle. They sang happy birthday and honked a little horn at the end which was really fun. I and two other friends shared two pizzas. Amongst the 3 of us girls, it was the perfect amount of food. We ordered the Montesacro and the Corviale. Both were good and I thought it was a cute touch that they give everyone a pizza cutter to cut it yourself. I liked the Corivale more as the oyster mushrooms provided a really nice texture. I thought the sausage was good on the Montesacro and wished there was more of it. Personally, I felt like the pizzas in general needed a little something more flavor wise. They were just a touch bland. They gave us a spicy chili oil and red pepper flakes and I had to put a generous amount of both on. Our table all agreed that the pizzas could use a little more flavor. \\xa0Other than that, a great experience in both service and food.\",\n",
       " \"This cozy and authentic Italian restaurant is tucked away in an unsuspecting alleyway in SOMA and was such a wonderful experience! The indoor space had a lot of character and was a vintage, romantic Italian vibe. Definitely make a reservation beforehand as it was busy and a sought after place on the weekend. I came with a group of 5 and we ordered: - Polpette Al Sugo: Beef Meatballs, San Marzano Sugo, Basil- Formaggi E Salumi: Chef's Selection of Salumi and Cheese (charcuterie board which we LOVED)- We tried 4 of their pizzas and they were all delicious! Their Montesacro Pizza (Rosemary Potato, Artichokes, Lamb Sausage, Buffalo Mozzarella, Chili) was worth trying.- Pannacotta Al Finocchietto: I have tried Manny panncotta's and this one was one of my favorites. The addition of the virgin olive oil was unique and something I wouldn't have thought of adding on top..\",\n",
       " \"Great wine + pizza! Wow- their pizzas are AHHMAZING. With a wheat allergy, I shouldn't even eat pizzas, but will gladly suffer for theirs. Don't forget to drizzle the hot chili oil over your pizza for a yummy kick. Also, you MUST order their pistachio pastry dessert, just perfection. Warm, cozy space with such interesting decor. The staff were attentive and efficient. Highly recommend!\",\n",
       " \"Nestled in a charming alleyway off 6th and Market, Montesacro is an authentic Italian restaurant that enchants visitors with its tasteful decor. Step inside, and you'll marvel at the vintage typewriters to numerous accolades. \\xa0Whether you're indulging in a mouthwatering meal or simply taking in the surroundings, Montesacro is sure to leave a lasting impression.Given its popularity, it's better to make a reservation before visiting. Montesacro offers various seating options, but my personal preference was the bar area. The attentive bartender provided exceptional service, not only with his expert recommendations but also with his hilarious jokes. We ordered the pulpo, or grilled octopus. It came soaked in olive oil and was perfectly seasoned. The star of the show are the pinsas, or pizza made from soy, rice, and wheat flower. I ordered the Corviale and the mushroom coupled with balsamic was surprisingly addicting. I would love to come back and try all the other options. We were so stuffed so we didn't get dessert but the couple next to us said the gelato flight and espresso drink was a perfect finish to their meal.This is a perfect place for date night or even a nice dinner with friends. If you find yourself in SOMA, this restaurant is an absolute must-visit.\",\n",
       " 'Was looking for a place to eat as a solo diner and was seeing a show at the golden gate theater and I wanted all yummy food. This place is fantastic! I ordered some croquettes with a dipping suave and they were incredible. My neighbors ate the gnocchi and octopus and they love them both! I ordered a San Lorenzo pizza and it was beyond delicious. It was a heavenly taste of olive oil, red peppers, zucchini , mushrooms were so flavorful and complimentary on this dish! I was so happy to have been seated! Reservations mandatory for this location and can take a many weeks to get in. It is an exceptional place in an out of the way location. The service was excellent and this immersive restaurant makes you feel you took a trip to Rome!']"
      ]
     },
     "execution_count": 22,
     "metadata": {},
     "output_type": "execute_result"
    }
   ],
   "source": [
    "reviews"
   ]
  },
  {
   "cell_type": "markdown",
   "id": "e88381fe",
   "metadata": {},
   "source": [
    "Import Pandas and numpy to load reviews into Dataframe and Score"
   ]
  },
  {
   "cell_type": "code",
   "execution_count": 23,
   "id": "9d973e3e",
   "metadata": {},
   "outputs": [],
   "source": [
    "import numpy as np\n",
    "import pandas as pd"
   ]
  },
  {
   "cell_type": "code",
   "execution_count": 24,
   "id": "929713d9",
   "metadata": {},
   "outputs": [],
   "source": [
    "df = pd.DataFrame(np.array(reviews), columns = ['review'])"
   ]
  },
  {
   "cell_type": "code",
   "execution_count": 25,
   "id": "5555a7ba",
   "metadata": {
    "scrolled": true
   },
   "outputs": [
    {
     "data": {
      "text/plain": [
       "\"Everything, great food, adorable place, excellent wine, and a very hot wait staff (Italian accent anyone?). \\xa0We only got appetizers as the pinsa was gluten-aware and not Celiac gluten free. But oh what amazing appetizers they were! Also very nice decor in a neat building with some wonderful leftovers of old SF interspersed amongst the nouveau Soviet architecture that's going up everywhere. Not being able to order the pinsa meant the cost was a little higher, so I couldn't afford it on the reg, but I will *definitely* be returning.\""
      ]
     },
     "execution_count": 25,
     "metadata": {},
     "output_type": "execute_result"
    }
   ],
   "source": [
    "df['review'].iloc[0]b"
   ]
  },
  {
   "cell_type": "code",
   "execution_count": 26,
   "id": "d4941773",
   "metadata": {},
   "outputs": [],
   "source": [
    "def sentiment_score(review):\n",
    "    tokens = tokenizer.encode(review, return_tensors = 'pt')\n",
    "    result = model(tokens)\n",
    "    return int(torch.argmax(result.logits))+1"
   ]
  },
  {
   "cell_type": "code",
   "execution_count": 28,
   "id": "22797904",
   "metadata": {},
   "outputs": [
    {
     "data": {
      "text/plain": [
       "4"
      ]
     },
     "execution_count": 28,
     "metadata": {},
     "output_type": "execute_result"
    }
   ],
   "source": [
    "sentiment_score(df['review'].iloc[1])"
   ]
  },
  {
   "cell_type": "code",
   "execution_count": 30,
   "id": "ca1bab08",
   "metadata": {},
   "outputs": [],
   "source": [
    "df['sentiment'] = df['review'].apply(lambda x : sentiment_score(x[:512]))"
   ]
  },
  {
   "cell_type": "code",
   "execution_count": 31,
   "id": "3605b4b4",
   "metadata": {},
   "outputs": [
    {
     "data": {
      "text/html": [
       "<div>\n",
       "<style scoped>\n",
       "    .dataframe tbody tr th:only-of-type {\n",
       "        vertical-align: middle;\n",
       "    }\n",
       "\n",
       "    .dataframe tbody tr th {\n",
       "        vertical-align: top;\n",
       "    }\n",
       "\n",
       "    .dataframe thead th {\n",
       "        text-align: right;\n",
       "    }\n",
       "</style>\n",
       "<table border=\"1\" class=\"dataframe\">\n",
       "  <thead>\n",
       "    <tr style=\"text-align: right;\">\n",
       "      <th></th>\n",
       "      <th>review</th>\n",
       "      <th>sentiment</th>\n",
       "    </tr>\n",
       "  </thead>\n",
       "  <tbody>\n",
       "    <tr>\n",
       "      <th>0</th>\n",
       "      <td>Everything, great food, adorable place, excell...</td>\n",
       "      <td>5</td>\n",
       "    </tr>\n",
       "    <tr>\n",
       "      <th>1</th>\n",
       "      <td>Overall Experience: 4.5 Food: 4Service: 5Atmos...</td>\n",
       "      <td>4</td>\n",
       "    </tr>\n",
       "    <tr>\n",
       "      <th>2</th>\n",
       "      <td>I came here on a Saturday night with a reserva...</td>\n",
       "      <td>4</td>\n",
       "    </tr>\n",
       "    <tr>\n",
       "      <th>3</th>\n",
       "      <td>Stopped by this place for some pizza before ca...</td>\n",
       "      <td>3</td>\n",
       "    </tr>\n",
       "    <tr>\n",
       "      <th>4</th>\n",
       "      <td>Came here for an after party quick dinner and ...</td>\n",
       "      <td>4</td>\n",
       "    </tr>\n",
       "    <tr>\n",
       "      <th>5</th>\n",
       "      <td>Thank you so much for taking the time to revie...</td>\n",
       "      <td>5</td>\n",
       "    </tr>\n",
       "    <tr>\n",
       "      <th>6</th>\n",
       "      <td>Really lovely ambiance. The restaurant was dim...</td>\n",
       "      <td>5</td>\n",
       "    </tr>\n",
       "    <tr>\n",
       "      <th>7</th>\n",
       "      <td>This cozy and authentic Italian restaurant is ...</td>\n",
       "      <td>5</td>\n",
       "    </tr>\n",
       "    <tr>\n",
       "      <th>8</th>\n",
       "      <td>Great wine + pizza! Wow- their pizzas are AHHM...</td>\n",
       "      <td>5</td>\n",
       "    </tr>\n",
       "    <tr>\n",
       "      <th>9</th>\n",
       "      <td>Nestled in a charming alleyway off 6th and Mar...</td>\n",
       "      <td>4</td>\n",
       "    </tr>\n",
       "    <tr>\n",
       "      <th>10</th>\n",
       "      <td>Was looking for a place to eat as a solo diner...</td>\n",
       "      <td>5</td>\n",
       "    </tr>\n",
       "  </tbody>\n",
       "</table>\n",
       "</div>"
      ],
      "text/plain": [
       "                                               review  sentiment\n",
       "0   Everything, great food, adorable place, excell...          5\n",
       "1   Overall Experience: 4.5 Food: 4Service: 5Atmos...          4\n",
       "2   I came here on a Saturday night with a reserva...          4\n",
       "3   Stopped by this place for some pizza before ca...          3\n",
       "4   Came here for an after party quick dinner and ...          4\n",
       "5   Thank you so much for taking the time to revie...          5\n",
       "6   Really lovely ambiance. The restaurant was dim...          5\n",
       "7   This cozy and authentic Italian restaurant is ...          5\n",
       "8   Great wine + pizza! Wow- their pizzas are AHHM...          5\n",
       "9   Nestled in a charming alleyway off 6th and Mar...          4\n",
       "10  Was looking for a place to eat as a solo diner...          5"
      ]
     },
     "execution_count": 31,
     "metadata": {},
     "output_type": "execute_result"
    }
   ],
   "source": [
    "df"
   ]
  },
  {
   "cell_type": "code",
   "execution_count": 32,
   "id": "c1445dae",
   "metadata": {},
   "outputs": [
    {
     "data": {
      "text/plain": [
       "'Thank you so much for taking the time to review our restaurant. Please visit us again soon! Grazie! '"
      ]
     },
     "execution_count": 32,
     "metadata": {},
     "output_type": "execute_result"
    }
   ],
   "source": [
    "df['review'].iloc[5]"
   ]
  }
 ],
 "metadata": {
  "kernelspec": {
   "display_name": "Python 3 (ipykernel)",
   "language": "python",
   "name": "python3"
  },
  "language_info": {
   "codemirror_mode": {
    "name": "ipython",
    "version": 3
   },
   "file_extension": ".py",
   "mimetype": "text/x-python",
   "name": "python",
   "nbconvert_exporter": "python",
   "pygments_lexer": "ipython3",
   "version": "3.10.9"
  }
 },
 "nbformat": 4,
 "nbformat_minor": 5
}
